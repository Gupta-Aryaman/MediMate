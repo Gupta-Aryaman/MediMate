{
 "cells": [
  {
   "cell_type": "code",
   "execution_count": 2,
   "metadata": {},
   "outputs": [],
   "source": [
    "import pandas as pd\n",
    "import json\n",
    "import ast"
   ]
  },
  {
   "cell_type": "code",
   "execution_count": 3,
   "metadata": {},
   "outputs": [
    {
     "name": "stdout",
     "output_type": "stream",
     "text": [
      "DATASETS LOADED SUCCESSFULLY\n"
     ]
    }
   ],
   "source": [
    "# Load data from CSV\n",
    "data = pd.read_csv('./dataset/training.csv')\n",
    "\n",
    "# Load keywords and questions from JSON files\n",
    "with open('./dataset/diagnosis_keywords.json', 'r') as keywords_file:\n",
    "    keywords_data = json.load(keywords_file)\n",
    "\n",
    "with open('./dataset/question_keywords.json', 'r') as questions_file:\n",
    "    questions_data = json.load(questions_file)\n",
    "\n",
    "print(\"DATASETS LOADED SUCCESSFULLY\")"
   ]
  },
  {
   "cell_type": "code",
   "execution_count": 4,
   "metadata": {},
   "outputs": [
    {
     "name": "stdout",
     "output_type": "stream",
     "text": [
      "KEYWORDS MAPPED TO QUESTIONS SUCCESSFULLY\n",
      "KEYWORDS MAPPED TO DIAGNOSES SUCCESSFULLY\n"
     ]
    }
   ],
   "source": [
    "# Create a mapping of keywords to questions\n",
    "keyword_to_question = {item: questions_data[item]['question_en'] for item in questions_data}\n",
    "\n",
    "print(\"KEYWORDS MAPPED TO QUESTIONS SUCCESSFULLY\")\n",
    "\n",
    "# Create a mapping of keywords to diagnoses\n",
    "keyword_to_diagnosis = {item: keywords_data[item]['cond-name-eng'] for item in keywords_data}\n",
    "\n",
    "print(\"KEYWORDS MAPPED TO DIAGNOSES SUCCESSFULLY\")"
   ]
  },
  {
   "cell_type": "code",
   "execution_count": 12,
   "metadata": {},
   "outputs": [],
   "source": [
    "# Initialize lists to store feature vectors and labels\n",
    "feature_vectors = []\n",
    "labels = []\n",
    "\n",
    "# Process each row in the CSV file\n",
    "for index, row in data.iterrows():\n",
    "    # Extract values from the row\n",
    "    age = row['AGE']\n",
    "    sex = 1 if row['SEX'] == 'F' else 0\n",
    "    initial_evidence = row['INITIAL_EVIDENCE']\n",
    "    differential_diagnosis = ast.literal_eval(row['DIFFERENTIAL_DIAGNOSIS'])\n",
    " \n",
    "    # Create a binary vector for evidence questions\n",
    "    evidence_vector = [1 if keyword in initial_evidence else 0 for keyword in keyword_to_question.keys()]\n",
    "\n",
    "    # Create a list of likelihood percentages\n",
    "    percentages = [0.0] * len(keyword_to_diagnosis)\n",
    "\n",
    "    for element in differential_diagnosis:\n",
    "        diagnosis = element[0]\n",
    "        likelihood = element[1]\n",
    "        if diagnosis in keyword_to_diagnosis:\n",
    "            percentages[list(keyword_to_diagnosis.keys()).index(diagnosis)] = likelihood\n",
    "\n",
    "    # Create the feature vector\n",
    "    feature_vector = [age, sex] \n",
    "    # + evidence_vector + percentages\n",
    "    feature_vector.append(evidence_vector)\n",
    "    feature_vector.append(percentages)\n",
    "\n",
    "    # Append the feature vector and label (e.g., pathology) to the lists\n",
    "    feature_vectors.append(feature_vector)\n",
    "    labels.append(keywords_data[row['PATHOLOGY']][\"cond-name-eng\"])\n"
   ]
  },
  {
   "cell_type": "code",
   "execution_count": 14,
   "metadata": {},
   "outputs": [
    {
     "name": "stdout",
     "output_type": "stream",
     "text": [
      "[18, 0, [1, 0, 0, 0, 0, 0, 0, 0, 0, 0, 0, 0, 0, 0, 0, 0, 0, 0, 0, 0, 0, 0, 0, 0, 0, 0, 0, 0, 0, 0, 0, 0, 0, 0, 0, 0, 0, 0, 0, 0, 0, 0, 0, 0, 0, 0, 0, 0, 0, 0, 0, 0, 0, 0, 0, 0, 0, 0, 0, 0, 0, 0, 0, 0, 0, 0, 0, 0, 0, 0, 0, 0, 0, 0, 0, 0, 0, 0, 0, 0, 0, 0, 0, 0, 0, 0, 0, 0, 0, 0, 0, 0, 0, 0, 0, 0, 0, 0, 0, 0, 0, 0, 0, 0, 0, 0, 0, 0, 0, 0, 0, 0, 0, 0, 0, 0, 0, 0, 0, 0, 0, 0, 0, 0, 0, 0, 0, 0, 0, 0, 0, 0, 0, 0, 0, 0, 0, 0, 0, 0, 0, 0, 0, 0, 0, 0, 0, 0, 0, 0, 0, 0, 0, 0, 0, 0, 0, 0, 0, 0, 0, 0, 0, 0, 0, 0, 0, 0, 0, 0, 0, 0, 0, 0, 0, 0, 0, 0, 0, 0, 0, 0, 0, 0, 0, 0, 0, 0, 0, 0, 0, 0, 0, 0, 0, 0, 0, 0, 0, 0, 0, 0, 0, 0, 0, 0, 0, 0, 0, 0, 0, 0, 0, 0, 0, 0, 0, 0, 0, 0, 0, 0, 0], [0.0, 0.0, 0.0, 0.0, 0.0, 0.07333003867293564, 0.0, 0.0, 0.0, 0.0, 0.0, 0.0, 0.0, 0.0, 0.0, 0.0, 0.0, 0.0, 0.12429044460990353, 0.0, 0.04984197229703562, 0.0, 0.0, 0.0, 0.0, 0.0, 0.0, 0.11367177304035844, 0.0, 0.0, 0.0, 0.0, 0.0, 0.0, 0.19171203430383882, 0.0, 0.0, 0.1607809719801254, 0.11057936110639896, 0.17579340398940366, 0.0, 0.0, 0.0, 0.0, 0.0, 0.0, 0.0, 0.0, 0.0]]\n"
     ]
    }
   ],
   "source": [
    "print(feature_vectors[0])"
   ]
  },
  {
   "cell_type": "code",
   "execution_count": 16,
   "metadata": {},
   "outputs": [],
   "source": [
    "# Convert lists to a DataFrame for further processing or modeling\n",
    "column_names = ['AGE', 'SEX', 'EVIDENCE_VECTOR', 'PERCENTAGES']\n",
    "feature_df = pd.DataFrame(feature_vectors, columns=column_names)\n",
    "label_df = pd.DataFrame(labels, columns=['PATHOLOGY'])"
   ]
  },
  {
   "cell_type": "code",
   "execution_count": 18,
   "metadata": {},
   "outputs": [
    {
     "name": "stdout",
     "output_type": "stream",
     "text": [
      "                       PATHOLOGY\n",
      "0                           URTI\n",
      "1        HIV (initial infection)\n",
      "2                      Pneumonia\n",
      "3                           URTI\n",
      "4                           URTI\n",
      "...                          ...\n",
      "1025597             Epiglottitis\n",
      "1025598             Epiglottitis\n",
      "1025599             Epiglottitis\n",
      "1025600             Epiglottitis\n",
      "1025601             Epiglottitis\n",
      "\n",
      "[1025602 rows x 1 columns]\n"
     ]
    }
   ],
   "source": [
    "# Print or save the feature DataFrame for modeling\n",
    "print(label_df)"
   ]
  },
  {
   "cell_type": "code",
   "execution_count": 19,
   "metadata": {},
   "outputs": [
    {
     "name": "stdout",
     "output_type": "stream",
     "text": [
      "DataFrames exported to CSV files successfully.\n"
     ]
    }
   ],
   "source": [
    "# Save feature_df to a CSV file\n",
    "feature_df.to_csv('./dataset/feature_data.csv', index=False)\n",
    "\n",
    "# Save label_df to a CSV file\n",
    "label_df.to_csv('./dataset/label_data.csv', index=False)\n",
    "\n",
    "print(\"DataFrames exported to CSV files successfully.\")"
   ]
  }
 ],
 "metadata": {
  "kernelspec": {
   "display_name": "env",
   "language": "python",
   "name": "python3"
  },
  "language_info": {
   "codemirror_mode": {
    "name": "ipython",
    "version": 3
   },
   "file_extension": ".py",
   "mimetype": "text/x-python",
   "name": "python",
   "nbconvert_exporter": "python",
   "pygments_lexer": "ipython3",
   "version": "3.11.4"
  }
 },
 "nbformat": 4,
 "nbformat_minor": 2
}
